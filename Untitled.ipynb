{
 "cells": [
  {
   "cell_type": "code",
   "execution_count": 1,
   "id": "ad63ab51",
   "metadata": {
    "ExecuteTime": {
     "end_time": "2023-04-14T18:11:19.345068Z",
     "start_time": "2023-04-14T18:11:18.369057Z"
    }
   },
   "outputs": [],
   "source": [
    "from selenium import webdriver\n",
    "from selenium.webdriver.common.by import By\n",
    "import pandas as pd"
   ]
  },
  {
   "cell_type": "code",
   "execution_count": 2,
   "id": "629e13c4",
   "metadata": {
    "ExecuteTime": {
     "end_time": "2023-04-14T18:11:19.360995Z",
     "start_time": "2023-04-14T18:11:19.350024Z"
    }
   },
   "outputs": [],
   "source": [
    "# function to returns a list of textContent from a list of a selenium web elements\n",
    "def get_text_content(elements_list):\n",
    "    array = []\n",
    "    for i in range(0, len(elements_list)):\n",
    "        array.append(elements_list[i].get_attribute('textContent'))\n",
    "        \n",
    "    return array\n",
    "\n",
    "# func to return a array without duplicates\n",
    "def drop_duplicates(array):\n",
    "    return list(dict.fromkeys(array))\n"
   ]
  },
  {
   "cell_type": "code",
   "execution_count": 21,
   "id": "4a30f48b",
   "metadata": {
    "ExecuteTime": {
     "end_time": "2023-04-14T18:25:11.155201Z",
     "start_time": "2023-04-14T18:25:05.771226Z"
    },
    "code_folding": [
     7
    ]
   },
   "outputs": [
    {
     "name": "stderr",
     "output_type": "stream",
     "text": [
      "C:\\Users\\Davi Nunes\\AppData\\Local\\Temp\\ipykernel_15052\\1806079794.py:5: DeprecationWarning: executable_path has been deprecated, please pass in a Service object\n",
      "  browser = webdriver.Chrome(executable_path=PATH)\n"
     ]
    }
   ],
   "source": [
    "# path to chromedriver\n",
    "PATH = 'C:\\Program Files (x86)\\chromedriver.exe'\n",
    "\n",
    "# instantiate a webdriver and oppen the url\n",
    "browser = webdriver.Chrome(executable_path=PATH)\n",
    "browser.get(url= \"https://www.sejabtg.com/escritorios\")\n",
    "\n",
    "dictio = {'Razão Social':[],\n",
    "          'CNPJ':[],\n",
    "          'E-mail':[],\n",
    "          'Endereço':[],\n",
    "          'UF':[],\n",
    "          'Cidade':[],\n",
    "          'Bairro':[],\n",
    "          'Sócio responsável':[],\n",
    "          'Telefone':[],\n",
    "          'Site':[],\n",
    "          'Data contratação':[],\n",
    "          'CEP':[]}\n",
    "\n",
    "keys = list(dictio.keys())"
   ]
  },
  {
   "cell_type": "code",
   "execution_count": 22,
   "id": "36f9f4b5",
   "metadata": {
    "ExecuteTime": {
     "end_time": "2023-04-14T18:25:13.581141Z",
     "start_time": "2023-04-14T18:25:11.177040Z"
    },
    "code_folding": [
     0
    ]
   },
   "outputs": [
    {
     "name": "stdout",
     "output_type": "stream",
     "text": [
      "4\n"
     ]
    },
    {
     "ename": "InvalidSelectorException",
     "evalue": "Message: invalid selector: Unable to locate an element with the xpath expression app-locate-offices.ng-star-inserted:nth-child(2) section.locate-office-list:nth-child(3) div.grid div.cell-4-phone.cell-8-tablet.cell-12-desktop:nth-child(3) mat-accordion.mat-accordion mat-expansion-panel.mat-expansion-panel.text-p2.accordion.ng-tns-c71-96.ng-star-inserted.mat-expanded.mat-expansion-panel-spacing:nth-child(47) div.mat-expansion-panel-content.ng-tns-c71-96.ng-trigger.ng-trigger-bodyExpansion > div.mat-expansion-panel-body.ng-tns-c71-4 because of the following error:\nSyntaxError: Failed to execute 'evaluate' on 'Document': The string 'app-locate-offices.ng-star-inserted:nth-child(2) section.locate-office-list:nth-child(3) div.grid div.cell-4-phone.cell-8-tablet.cell-12-desktop:nth-child(3) mat-accordion.mat-accordion mat-expansion-panel.mat-expansion-panel.text-p2.accordion.ng-tns-c71-96.ng-star-inserted.mat-expanded.mat-expansion-panel-spacing:nth-child(47) div.mat-expansion-panel-content.ng-tns-c71-96.ng-trigger.ng-trigger-bodyExpansion > div.mat-expansion-panel-body.ng-tns-c71-4' is not a valid XPath expression.\n  (Session info: chrome=112.0.5615.87)\nStacktrace:\nBacktrace:\n\t(No symbol) [0x002BDCE3]\n\t(No symbol) [0x002539D1]\n\t(No symbol) [0x00164DA8]\n\t(No symbol) [0x001676FB]\n\t(No symbol) [0x001675D0]\n\t(No symbol) [0x00167850]\n\t(No symbol) [0x0018FDF8]\n\t(No symbol) [0x001903AB]\n\t(No symbol) [0x001BEE62]\n\t(No symbol) [0x001AAF14]\n\t(No symbol) [0x001BD57C]\n\t(No symbol) [0x001AACC6]\n\t(No symbol) [0x00186F68]\n\t(No symbol) [0x001880CD]\n\tGetHandleVerifier [0x00533832+2506274]\n\tGetHandleVerifier [0x00569794+2727300]\n\tGetHandleVerifier [0x0056E36C+2746716]\n\tGetHandleVerifier [0x00366690+617600]\n\t(No symbol) [0x0025C712]\n\t(No symbol) [0x00261FF8]\n\t(No symbol) [0x002620DB]\n\t(No symbol) [0x0026C63B]\n\tBaseThreadInitThunk [0x75780099+25]\n\tRtlGetAppContainerNamedObjectPath [0x77917B6E+286]\n\tRtlGetAppContainerNamedObjectPath [0x77917B3E+238]\n\t(No symbol) [0x00000000]\n",
     "output_type": "error",
     "traceback": [
      "\u001b[1;31m---------------------------------------------------------------------------\u001b[0m",
      "\u001b[1;31mInvalidSelectorException\u001b[0m                  Traceback (most recent call last)",
      "Cell \u001b[1;32mIn [22], line 5\u001b[0m\n\u001b[0;32m      2\u001b[0m \u001b[38;5;28;01mwhile\u001b[39;00m \u001b[38;5;28;01mTrue\u001b[39;00m:\n\u001b[0;32m      3\u001b[0m \u001b[38;5;66;03m#     try:\u001b[39;00m\n\u001b[0;32m      4\u001b[0m     \u001b[38;5;28mprint\u001b[39m(\u001b[38;5;124mf\u001b[39m\u001b[38;5;124m\"\u001b[39m\u001b[38;5;132;01m{\u001b[39;00mj\u001b[38;5;132;01m}\u001b[39;00m\u001b[38;5;124m\"\u001b[39m)\n\u001b[1;32m----> 5\u001b[0m     div \u001b[38;5;241m=\u001b[39m \u001b[43mbrowser\u001b[49m\u001b[38;5;241;43m.\u001b[39;49m\u001b[43mfind_element\u001b[49m\u001b[43m(\u001b[49m\u001b[43mBy\u001b[49m\u001b[38;5;241;43m.\u001b[39;49m\u001b[43mXPATH\u001b[49m\u001b[43m,\u001b[49m\u001b[43m \u001b[49m\u001b[38;5;124;43mf\u001b[39;49m\u001b[38;5;124;43m\"\u001b[39;49m\u001b[38;5;124;43mapp-locate-offices.ng-star-inserted:nth-child(2) section.locate-office-list:nth-child(3) div.grid div.cell-4-phone.cell-8-tablet.cell-12-desktop:nth-child(3) mat-accordion.mat-accordion mat-expansion-panel.mat-expansion-panel.text-p2.accordion.ng-tns-c71-96.ng-star-inserted.mat-expanded.mat-expansion-panel-spacing:nth-child(47) div.mat-expansion-panel-content.ng-tns-c71-96.ng-trigger.ng-trigger-bodyExpansion > div.mat-expansion-panel-body.ng-tns-c71-\u001b[39;49m\u001b[38;5;132;43;01m{\u001b[39;49;00m\u001b[43mj\u001b[49m\u001b[38;5;132;43;01m}\u001b[39;49;00m\u001b[38;5;124;43m\"\u001b[39;49m\u001b[43m)\u001b[49m\n\u001b[0;32m      6\u001b[0m \u001b[38;5;66;03m#                                             //div[@class='mat-expansion-panel-body ng-tns-c71-96']\u001b[39;00m\n\u001b[0;32m      7\u001b[0m \u001b[38;5;66;03m#     div = browser.find_element(By.CLASS_NAME, f\"ng-tns-c71-{j}\")\u001b[39;00m\n\u001b[0;32m      9\u001b[0m     title \u001b[38;5;241m=\u001b[39m div\u001b[38;5;241m.\u001b[39mfind_elements(By\u001b[38;5;241m.\u001b[39mCLASS_NAME, \u001b[38;5;124m\"\u001b[39m\u001b[38;5;124mtitle\u001b[39m\u001b[38;5;124m\"\u001b[39m)  \n",
      "File \u001b[1;32m~\\AppData\\Local\\Programs\\Python\\Python310\\lib\\site-packages\\selenium\\webdriver\\remote\\webdriver.py:830\u001b[0m, in \u001b[0;36mWebDriver.find_element\u001b[1;34m(self, by, value)\u001b[0m\n\u001b[0;32m    827\u001b[0m     by \u001b[38;5;241m=\u001b[39m By\u001b[38;5;241m.\u001b[39mCSS_SELECTOR\n\u001b[0;32m    828\u001b[0m     value \u001b[38;5;241m=\u001b[39m \u001b[38;5;124mf\u001b[39m\u001b[38;5;124m'\u001b[39m\u001b[38;5;124m[name=\u001b[39m\u001b[38;5;124m\"\u001b[39m\u001b[38;5;132;01m{\u001b[39;00mvalue\u001b[38;5;132;01m}\u001b[39;00m\u001b[38;5;124m\"\u001b[39m\u001b[38;5;124m]\u001b[39m\u001b[38;5;124m'\u001b[39m\n\u001b[1;32m--> 830\u001b[0m \u001b[38;5;28;01mreturn\u001b[39;00m \u001b[38;5;28;43mself\u001b[39;49m\u001b[38;5;241;43m.\u001b[39;49m\u001b[43mexecute\u001b[49m\u001b[43m(\u001b[49m\u001b[43mCommand\u001b[49m\u001b[38;5;241;43m.\u001b[39;49m\u001b[43mFIND_ELEMENT\u001b[49m\u001b[43m,\u001b[49m\u001b[43m \u001b[49m\u001b[43m{\u001b[49m\u001b[38;5;124;43m\"\u001b[39;49m\u001b[38;5;124;43musing\u001b[39;49m\u001b[38;5;124;43m\"\u001b[39;49m\u001b[43m:\u001b[49m\u001b[43m \u001b[49m\u001b[43mby\u001b[49m\u001b[43m,\u001b[49m\u001b[43m \u001b[49m\u001b[38;5;124;43m\"\u001b[39;49m\u001b[38;5;124;43mvalue\u001b[39;49m\u001b[38;5;124;43m\"\u001b[39;49m\u001b[43m:\u001b[49m\u001b[43m \u001b[49m\u001b[43mvalue\u001b[49m\u001b[43m}\u001b[49m\u001b[43m)\u001b[49m[\u001b[38;5;124m\"\u001b[39m\u001b[38;5;124mvalue\u001b[39m\u001b[38;5;124m\"\u001b[39m]\n",
      "File \u001b[1;32m~\\AppData\\Local\\Programs\\Python\\Python310\\lib\\site-packages\\selenium\\webdriver\\remote\\webdriver.py:440\u001b[0m, in \u001b[0;36mWebDriver.execute\u001b[1;34m(self, driver_command, params)\u001b[0m\n\u001b[0;32m    438\u001b[0m response \u001b[38;5;241m=\u001b[39m \u001b[38;5;28mself\u001b[39m\u001b[38;5;241m.\u001b[39mcommand_executor\u001b[38;5;241m.\u001b[39mexecute(driver_command, params)\n\u001b[0;32m    439\u001b[0m \u001b[38;5;28;01mif\u001b[39;00m response:\n\u001b[1;32m--> 440\u001b[0m     \u001b[38;5;28;43mself\u001b[39;49m\u001b[38;5;241;43m.\u001b[39;49m\u001b[43merror_handler\u001b[49m\u001b[38;5;241;43m.\u001b[39;49m\u001b[43mcheck_response\u001b[49m\u001b[43m(\u001b[49m\u001b[43mresponse\u001b[49m\u001b[43m)\u001b[49m\n\u001b[0;32m    441\u001b[0m     response[\u001b[38;5;124m\"\u001b[39m\u001b[38;5;124mvalue\u001b[39m\u001b[38;5;124m\"\u001b[39m] \u001b[38;5;241m=\u001b[39m \u001b[38;5;28mself\u001b[39m\u001b[38;5;241m.\u001b[39m_unwrap_value(response\u001b[38;5;241m.\u001b[39mget(\u001b[38;5;124m\"\u001b[39m\u001b[38;5;124mvalue\u001b[39m\u001b[38;5;124m\"\u001b[39m, \u001b[38;5;28;01mNone\u001b[39;00m))\n\u001b[0;32m    442\u001b[0m     \u001b[38;5;28;01mreturn\u001b[39;00m response\n",
      "File \u001b[1;32m~\\AppData\\Local\\Programs\\Python\\Python310\\lib\\site-packages\\selenium\\webdriver\\remote\\errorhandler.py:245\u001b[0m, in \u001b[0;36mErrorHandler.check_response\u001b[1;34m(self, response)\u001b[0m\n\u001b[0;32m    243\u001b[0m         alert_text \u001b[38;5;241m=\u001b[39m value[\u001b[38;5;124m\"\u001b[39m\u001b[38;5;124malert\u001b[39m\u001b[38;5;124m\"\u001b[39m]\u001b[38;5;241m.\u001b[39mget(\u001b[38;5;124m\"\u001b[39m\u001b[38;5;124mtext\u001b[39m\u001b[38;5;124m\"\u001b[39m)\n\u001b[0;32m    244\u001b[0m     \u001b[38;5;28;01mraise\u001b[39;00m exception_class(message, screen, stacktrace, alert_text)  \u001b[38;5;66;03m# type: ignore[call-arg]  # mypy is not smart enough here\u001b[39;00m\n\u001b[1;32m--> 245\u001b[0m \u001b[38;5;28;01mraise\u001b[39;00m exception_class(message, screen, stacktrace)\n",
      "\u001b[1;31mInvalidSelectorException\u001b[0m: Message: invalid selector: Unable to locate an element with the xpath expression app-locate-offices.ng-star-inserted:nth-child(2) section.locate-office-list:nth-child(3) div.grid div.cell-4-phone.cell-8-tablet.cell-12-desktop:nth-child(3) mat-accordion.mat-accordion mat-expansion-panel.mat-expansion-panel.text-p2.accordion.ng-tns-c71-96.ng-star-inserted.mat-expanded.mat-expansion-panel-spacing:nth-child(47) div.mat-expansion-panel-content.ng-tns-c71-96.ng-trigger.ng-trigger-bodyExpansion > div.mat-expansion-panel-body.ng-tns-c71-4 because of the following error:\nSyntaxError: Failed to execute 'evaluate' on 'Document': The string 'app-locate-offices.ng-star-inserted:nth-child(2) section.locate-office-list:nth-child(3) div.grid div.cell-4-phone.cell-8-tablet.cell-12-desktop:nth-child(3) mat-accordion.mat-accordion mat-expansion-panel.mat-expansion-panel.text-p2.accordion.ng-tns-c71-96.ng-star-inserted.mat-expanded.mat-expansion-panel-spacing:nth-child(47) div.mat-expansion-panel-content.ng-tns-c71-96.ng-trigger.ng-trigger-bodyExpansion > div.mat-expansion-panel-body.ng-tns-c71-4' is not a valid XPath expression.\n  (Session info: chrome=112.0.5615.87)\nStacktrace:\nBacktrace:\n\t(No symbol) [0x002BDCE3]\n\t(No symbol) [0x002539D1]\n\t(No symbol) [0x00164DA8]\n\t(No symbol) [0x001676FB]\n\t(No symbol) [0x001675D0]\n\t(No symbol) [0x00167850]\n\t(No symbol) [0x0018FDF8]\n\t(No symbol) [0x001903AB]\n\t(No symbol) [0x001BEE62]\n\t(No symbol) [0x001AAF14]\n\t(No symbol) [0x001BD57C]\n\t(No symbol) [0x001AACC6]\n\t(No symbol) [0x00186F68]\n\t(No symbol) [0x001880CD]\n\tGetHandleVerifier [0x00533832+2506274]\n\tGetHandleVerifier [0x00569794+2727300]\n\tGetHandleVerifier [0x0056E36C+2746716]\n\tGetHandleVerifier [0x00366690+617600]\n\t(No symbol) [0x0025C712]\n\t(No symbol) [0x00261FF8]\n\t(No symbol) [0x002620DB]\n\t(No symbol) [0x0026C63B]\n\tBaseThreadInitThunk [0x75780099+25]\n\tRtlGetAppContainerNamedObjectPath [0x77917B6E+286]\n\tRtlGetAppContainerNamedObjectPath [0x77917B3E+238]\n\t(No symbol) [0x00000000]\n"
     ]
    }
   ],
   "source": [
    "j = 4\n",
    "while True:\n",
    "#     try:\n",
    "    print(f\"{j}\")\n",
    "    div = browser.find_element(By.XPATH, f\"app-locate-offices.ng-star-inserted:nth-child(2) section.locate-office-list:nth-child(3) div.grid div.cell-4-phone.cell-8-tablet.cell-12-desktop:nth-child(3) mat-accordion.mat-accordion mat-expansion-panel.mat-expansion-panel.text-p2.accordion.ng-tns-c71-96.ng-star-inserted.mat-expanded.mat-expansion-panel-spacing:nth-child(47) div.mat-expansion-panel-content.ng-tns-c71-96.ng-trigger.ng-trigger-bodyExpansion > div.mat-expansion-panel-body.ng-tns-c71-{j}\")\n",
    "#                                             //div[@class='mat-expansion-panel-body ng-tns-c71-96']\n",
    "#     div = browser.find_element(By.CLASS_NAME, f\"ng-tns-c71-{j}\")\n",
    "\n",
    "    title = div.find_elements(By.CLASS_NAME, \"title\")  \n",
    "    content = div.find_elements(By.CLASS_NAME, \"info\") \n",
    "\n",
    "    title = drop_duplicates(get_text_content(title)) \n",
    "    content = drop_duplicates(get_text_content(content))\n",
    "\n",
    "    for i in range(0, len(title)): \n",
    "        if title[i] == 'Responsável pela filial':\n",
    "                title[i] = 'Sócio responsável'\n",
    "\n",
    "        if title[i] in keys:\n",
    "            dictio[title[i]].append(content[i])\n",
    "        else:\n",
    "            dictio[title[i]] = [content[i]]     \n",
    "\n",
    "    dif = list(set(keys) - set(title))\n",
    "\n",
    "    for i in range(0, len(dif)):\n",
    "        dictio[dif[i]].append(\"\")\n",
    "\n",
    "    j =  j + 2\n",
    "    if j == 30:\n",
    "        break\n",
    "        \n",
    "#     except:\n",
    "#         print(f\"j: {j}\")\n",
    "#         print('foi')\n",
    "#         break\n"
   ]
  },
  {
   "cell_type": "code",
   "execution_count": null,
   "id": "c911a431",
   "metadata": {},
   "outputs": [],
   "source": [
    "dictio"
   ]
  },
  {
   "cell_type": "code",
   "execution_count": 10,
   "id": "202deae7",
   "metadata": {
    "ExecuteTime": {
     "end_time": "2023-04-14T18:13:38.983159Z",
     "start_time": "2023-04-14T18:13:35.380331Z"
    }
   },
   "outputs": [
    {
     "ename": "ValueError",
     "evalue": "All arrays must be of the same length",
     "output_type": "error",
     "traceback": [
      "\u001b[1;31m---------------------------------------------------------------------------\u001b[0m",
      "\u001b[1;31mValueError\u001b[0m                                Traceback (most recent call last)",
      "Cell \u001b[1;32mIn [10], line 1\u001b[0m\n\u001b[1;32m----> 1\u001b[0m \u001b[43mpd\u001b[49m\u001b[38;5;241;43m.\u001b[39;49m\u001b[43mDataFrame\u001b[49m\u001b[43m(\u001b[49m\u001b[43mdictio\u001b[49m\u001b[43m)\u001b[49m\n",
      "File \u001b[1;32m~\\AppData\\Local\\Programs\\Python\\Python310\\lib\\site-packages\\pandas\\core\\frame.py:663\u001b[0m, in \u001b[0;36mDataFrame.__init__\u001b[1;34m(self, data, index, columns, dtype, copy)\u001b[0m\n\u001b[0;32m    657\u001b[0m     mgr \u001b[38;5;241m=\u001b[39m \u001b[38;5;28mself\u001b[39m\u001b[38;5;241m.\u001b[39m_init_mgr(\n\u001b[0;32m    658\u001b[0m         data, axes\u001b[38;5;241m=\u001b[39m{\u001b[38;5;124m\"\u001b[39m\u001b[38;5;124mindex\u001b[39m\u001b[38;5;124m\"\u001b[39m: index, \u001b[38;5;124m\"\u001b[39m\u001b[38;5;124mcolumns\u001b[39m\u001b[38;5;124m\"\u001b[39m: columns}, dtype\u001b[38;5;241m=\u001b[39mdtype, copy\u001b[38;5;241m=\u001b[39mcopy\n\u001b[0;32m    659\u001b[0m     )\n\u001b[0;32m    661\u001b[0m \u001b[38;5;28;01melif\u001b[39;00m \u001b[38;5;28misinstance\u001b[39m(data, \u001b[38;5;28mdict\u001b[39m):\n\u001b[0;32m    662\u001b[0m     \u001b[38;5;66;03m# GH#38939 de facto copy defaults to False only in non-dict cases\u001b[39;00m\n\u001b[1;32m--> 663\u001b[0m     mgr \u001b[38;5;241m=\u001b[39m \u001b[43mdict_to_mgr\u001b[49m\u001b[43m(\u001b[49m\u001b[43mdata\u001b[49m\u001b[43m,\u001b[49m\u001b[43m \u001b[49m\u001b[43mindex\u001b[49m\u001b[43m,\u001b[49m\u001b[43m \u001b[49m\u001b[43mcolumns\u001b[49m\u001b[43m,\u001b[49m\u001b[43m \u001b[49m\u001b[43mdtype\u001b[49m\u001b[38;5;241;43m=\u001b[39;49m\u001b[43mdtype\u001b[49m\u001b[43m,\u001b[49m\u001b[43m \u001b[49m\u001b[43mcopy\u001b[49m\u001b[38;5;241;43m=\u001b[39;49m\u001b[43mcopy\u001b[49m\u001b[43m,\u001b[49m\u001b[43m \u001b[49m\u001b[43mtyp\u001b[49m\u001b[38;5;241;43m=\u001b[39;49m\u001b[43mmanager\u001b[49m\u001b[43m)\u001b[49m\n\u001b[0;32m    664\u001b[0m \u001b[38;5;28;01melif\u001b[39;00m \u001b[38;5;28misinstance\u001b[39m(data, ma\u001b[38;5;241m.\u001b[39mMaskedArray):\n\u001b[0;32m    665\u001b[0m     \u001b[38;5;28;01mimport\u001b[39;00m \u001b[38;5;21;01mnumpy\u001b[39;00m\u001b[38;5;21;01m.\u001b[39;00m\u001b[38;5;21;01mma\u001b[39;00m\u001b[38;5;21;01m.\u001b[39;00m\u001b[38;5;21;01mmrecords\u001b[39;00m \u001b[38;5;28;01mas\u001b[39;00m \u001b[38;5;21;01mmrecords\u001b[39;00m\n",
      "File \u001b[1;32m~\\AppData\\Local\\Programs\\Python\\Python310\\lib\\site-packages\\pandas\\core\\internals\\construction.py:494\u001b[0m, in \u001b[0;36mdict_to_mgr\u001b[1;34m(data, index, columns, dtype, typ, copy)\u001b[0m\n\u001b[0;32m    490\u001b[0m     \u001b[38;5;28;01melse\u001b[39;00m:\n\u001b[0;32m    491\u001b[0m         \u001b[38;5;66;03m# dtype check to exclude e.g. range objects, scalars\u001b[39;00m\n\u001b[0;32m    492\u001b[0m         arrays \u001b[38;5;241m=\u001b[39m [x\u001b[38;5;241m.\u001b[39mcopy() \u001b[38;5;28;01mif\u001b[39;00m \u001b[38;5;28mhasattr\u001b[39m(x, \u001b[38;5;124m\"\u001b[39m\u001b[38;5;124mdtype\u001b[39m\u001b[38;5;124m\"\u001b[39m) \u001b[38;5;28;01melse\u001b[39;00m x \u001b[38;5;28;01mfor\u001b[39;00m x \u001b[38;5;129;01min\u001b[39;00m arrays]\n\u001b[1;32m--> 494\u001b[0m \u001b[38;5;28;01mreturn\u001b[39;00m \u001b[43marrays_to_mgr\u001b[49m\u001b[43m(\u001b[49m\u001b[43marrays\u001b[49m\u001b[43m,\u001b[49m\u001b[43m \u001b[49m\u001b[43mcolumns\u001b[49m\u001b[43m,\u001b[49m\u001b[43m \u001b[49m\u001b[43mindex\u001b[49m\u001b[43m,\u001b[49m\u001b[43m \u001b[49m\u001b[43mdtype\u001b[49m\u001b[38;5;241;43m=\u001b[39;49m\u001b[43mdtype\u001b[49m\u001b[43m,\u001b[49m\u001b[43m \u001b[49m\u001b[43mtyp\u001b[49m\u001b[38;5;241;43m=\u001b[39;49m\u001b[43mtyp\u001b[49m\u001b[43m,\u001b[49m\u001b[43m \u001b[49m\u001b[43mconsolidate\u001b[49m\u001b[38;5;241;43m=\u001b[39;49m\u001b[43mcopy\u001b[49m\u001b[43m)\u001b[49m\n",
      "File \u001b[1;32m~\\AppData\\Local\\Programs\\Python\\Python310\\lib\\site-packages\\pandas\\core\\internals\\construction.py:119\u001b[0m, in \u001b[0;36marrays_to_mgr\u001b[1;34m(arrays, columns, index, dtype, verify_integrity, typ, consolidate)\u001b[0m\n\u001b[0;32m    116\u001b[0m \u001b[38;5;28;01mif\u001b[39;00m verify_integrity:\n\u001b[0;32m    117\u001b[0m     \u001b[38;5;66;03m# figure out the index, if necessary\u001b[39;00m\n\u001b[0;32m    118\u001b[0m     \u001b[38;5;28;01mif\u001b[39;00m index \u001b[38;5;129;01mis\u001b[39;00m \u001b[38;5;28;01mNone\u001b[39;00m:\n\u001b[1;32m--> 119\u001b[0m         index \u001b[38;5;241m=\u001b[39m \u001b[43m_extract_index\u001b[49m\u001b[43m(\u001b[49m\u001b[43marrays\u001b[49m\u001b[43m)\u001b[49m\n\u001b[0;32m    120\u001b[0m     \u001b[38;5;28;01melse\u001b[39;00m:\n\u001b[0;32m    121\u001b[0m         index \u001b[38;5;241m=\u001b[39m ensure_index(index)\n",
      "File \u001b[1;32m~\\AppData\\Local\\Programs\\Python\\Python310\\lib\\site-packages\\pandas\\core\\internals\\construction.py:667\u001b[0m, in \u001b[0;36m_extract_index\u001b[1;34m(data)\u001b[0m\n\u001b[0;32m    665\u001b[0m lengths \u001b[38;5;241m=\u001b[39m \u001b[38;5;28mlist\u001b[39m(\u001b[38;5;28mset\u001b[39m(raw_lengths))\n\u001b[0;32m    666\u001b[0m \u001b[38;5;28;01mif\u001b[39;00m \u001b[38;5;28mlen\u001b[39m(lengths) \u001b[38;5;241m>\u001b[39m \u001b[38;5;241m1\u001b[39m:\n\u001b[1;32m--> 667\u001b[0m     \u001b[38;5;28;01mraise\u001b[39;00m \u001b[38;5;167;01mValueError\u001b[39;00m(\u001b[38;5;124m\"\u001b[39m\u001b[38;5;124mAll arrays must be of the same length\u001b[39m\u001b[38;5;124m\"\u001b[39m)\n\u001b[0;32m    669\u001b[0m \u001b[38;5;28;01mif\u001b[39;00m have_dicts:\n\u001b[0;32m    670\u001b[0m     \u001b[38;5;28;01mraise\u001b[39;00m \u001b[38;5;167;01mValueError\u001b[39;00m(\n\u001b[0;32m    671\u001b[0m         \u001b[38;5;124m\"\u001b[39m\u001b[38;5;124mMixing dicts with non-Series may lead to ambiguous ordering.\u001b[39m\u001b[38;5;124m\"\u001b[39m\n\u001b[0;32m    672\u001b[0m     )\n",
      "\u001b[1;31mValueError\u001b[0m: All arrays must be of the same length"
     ]
    }
   ],
   "source": [
    "pd.DataFrame(dictio)"
   ]
  },
  {
   "cell_type": "code",
   "execution_count": null,
   "id": "43a8607e",
   "metadata": {},
   "outputs": [],
   "source": []
  },
  {
   "cell_type": "code",
   "execution_count": null,
   "id": "c57df6ca",
   "metadata": {},
   "outputs": [],
   "source": []
  },
  {
   "cell_type": "code",
   "execution_count": null,
   "id": "8752095f",
   "metadata": {},
   "outputs": [],
   "source": []
  },
  {
   "cell_type": "code",
   "execution_count": null,
   "id": "a666a5ce",
   "metadata": {},
   "outputs": [],
   "source": []
  },
  {
   "cell_type": "code",
   "execution_count": null,
   "id": "bcce0e26",
   "metadata": {},
   "outputs": [],
   "source": []
  },
  {
   "cell_type": "code",
   "execution_count": null,
   "id": "76cf0e66",
   "metadata": {},
   "outputs": [],
   "source": []
  },
  {
   "cell_type": "code",
   "execution_count": null,
   "id": "591daa43",
   "metadata": {},
   "outputs": [],
   "source": []
  }
 ],
 "metadata": {
  "kernelspec": {
   "display_name": "Python 3 (ipykernel)",
   "language": "python",
   "name": "python3"
  },
  "language_info": {
   "codemirror_mode": {
    "name": "ipython",
    "version": 3
   },
   "file_extension": ".py",
   "mimetype": "text/x-python",
   "name": "python",
   "nbconvert_exporter": "python",
   "pygments_lexer": "ipython3",
   "version": "3.10.10"
  },
  "toc": {
   "base_numbering": 1,
   "nav_menu": {},
   "number_sections": true,
   "sideBar": true,
   "skip_h1_title": false,
   "title_cell": "Table of Contents",
   "title_sidebar": "Contents",
   "toc_cell": false,
   "toc_position": {},
   "toc_section_display": true,
   "toc_window_display": false
  },
  "varInspector": {
   "cols": {
    "lenName": 16,
    "lenType": 16,
    "lenVar": 40
   },
   "kernels_config": {
    "python": {
     "delete_cmd_postfix": "",
     "delete_cmd_prefix": "del ",
     "library": "var_list.py",
     "varRefreshCmd": "print(var_dic_list())"
    },
    "r": {
     "delete_cmd_postfix": ") ",
     "delete_cmd_prefix": "rm(",
     "library": "var_list.r",
     "varRefreshCmd": "cat(var_dic_list()) "
    }
   },
   "types_to_exclude": [
    "module",
    "function",
    "builtin_function_or_method",
    "instance",
    "_Feature"
   ],
   "window_display": false
  }
 },
 "nbformat": 4,
 "nbformat_minor": 5
}
